{
  "cells": [
    {
      "cell_type": "markdown",
      "source": [
        "# Tugas Hari PERTAMA_PYTHON INTRODUCTION"
      ],
      "metadata": {
        "id": "SXl29qJOjvT6"
      }
    },
    {
      "cell_type": "markdown",
      "source": [
        "<h2>Soal 1: Hello World to Python</h2>\n",
        "    \n",
        "Print Say Hello World to Python"
      ],
      "metadata": {
        "id": "xqvdFsR-kErn"
      }
    },
    {
      "cell_type": "code",
      "execution_count": 1,
      "metadata": {
        "colab": {
          "base_uri": "https://localhost:8080/"
        },
        "id": "a4yR8AILwt-8",
        "outputId": "fa4f6cfd-501c-4c85-bac3-eed49a8b1598"
      },
      "outputs": [
        {
          "output_type": "stream",
          "name": "stdout",
          "text": [
            "Hello World  Python\n"
          ]
        }
      ],
      "source": [
        "print(\"Hello World  Python\")"
      ]
    },
    {
      "cell_type": "markdown",
      "metadata": {
        "id": "fftihhaUwt_B"
      },
      "source": [
        "Expected Output : \n",
        "\n",
        "Hello World Python"
      ]
    },
    {
      "cell_type": "markdown",
      "metadata": {
        "id": "1aEipc1Swt_C"
      },
      "source": [
        "<h2>Soal 2: Aritmatika di Python </h2>\n",
        "    \n",
        "- Buat statement pertambahan antara 2 number di Python\n",
        "- Buat statement perkurangan antara 2 number di Python\n",
        "- Buat statement perkalian antara 2 number di Python\n",
        "- Buat statement pembagian antara 2 number di Python"
      ]
    },
    {
      "cell_type": "code",
      "execution_count": 2,
      "metadata": {
        "colab": {
          "base_uri": "https://localhost:8080/"
        },
        "id": "hOlCjZzrwt_D",
        "outputId": "7a4c2fa4-09f1-4006-80fb-b4f23b003483"
      },
      "outputs": [
        {
          "output_type": "execute_result",
          "data": {
            "text/plain": [
              "9"
            ]
          },
          "metadata": {},
          "execution_count": 2
        }
      ],
      "source": [
        "#Pertambahan\n",
        "3+6"
      ]
    },
    {
      "cell_type": "code",
      "execution_count": 3,
      "metadata": {
        "colab": {
          "base_uri": "https://localhost:8080/"
        },
        "id": "uh-WrfkqjAP3",
        "outputId": "193d0e2b-bdc3-430c-8932-95be9de4ddf4"
      },
      "outputs": [
        {
          "output_type": "execute_result",
          "data": {
            "text/plain": [
              "-3"
            ]
          },
          "metadata": {},
          "execution_count": 3
        }
      ],
      "source": [
        "#Perkurangan\n",
        "3-6"
      ]
    },
    {
      "cell_type": "code",
      "execution_count": 4,
      "metadata": {
        "colab": {
          "base_uri": "https://localhost:8080/"
        },
        "id": "OIwRvAqZjAP4",
        "outputId": "8e963ff9-20d2-4a1b-d837-1249d3f35c11"
      },
      "outputs": [
        {
          "output_type": "execute_result",
          "data": {
            "text/plain": [
              "18"
            ]
          },
          "metadata": {},
          "execution_count": 4
        }
      ],
      "source": [
        "#Perkalian\n",
        "3*6"
      ]
    },
    {
      "cell_type": "code",
      "execution_count": 5,
      "metadata": {
        "colab": {
          "base_uri": "https://localhost:8080/"
        },
        "id": "SrTi3zYCjAP5",
        "outputId": "4470e0ab-3f5d-4027-b197-0b4c113fa74f"
      },
      "outputs": [
        {
          "output_type": "execute_result",
          "data": {
            "text/plain": [
              "0.5"
            ]
          },
          "metadata": {},
          "execution_count": 5
        }
      ],
      "source": [
        "#Pembagian\n",
        "3/6"
      ]
    },
    {
      "cell_type": "markdown",
      "metadata": {
        "id": "DgUFNMtZwt_G"
      },
      "source": [
        "<h2>Quiz 3: Assign Variable dan Tipe Data Integer, Float </h2>\n",
        "\n",
        "- Buat suatu variabel a dan b, dimana a dan b adalah nilai bertipe data numeric\n",
        "- Berikan suatu nilai bertipe data integer, hasil pembagian dari a dengan b\n",
        "- Berikan suatu nilai bertipe data float, hasil pembagian dari a dengan b"
      ]
    },
    {
      "cell_type": "code",
      "execution_count": 6,
      "metadata": {
        "colab": {
          "base_uri": "https://localhost:8080/"
        },
        "id": "Qf8wzMg5wt_H",
        "outputId": "78340ad7-8436-442d-ed97-375f722ea822"
      },
      "outputs": [
        {
          "output_type": "stream",
          "name": "stdout",
          "text": [
            "Hasil pembagian dengan tipe data integer = 7\n",
            "Hasil pembagian dengan tipe data float = 7.666666666666667\n"
          ]
        }
      ],
      "source": [
        "a=23\n",
        "b=3\n",
        "\n",
        "print(\"Hasil pembagian dengan tipe data integer =\", a//b)\n",
        "print(\"Hasil pembagian dengan tipe data float =\",a/b)"
      ]
    },
    {
      "cell_type": "markdown",
      "metadata": {
        "id": "XmjLgW7Zwt_L"
      },
      "source": [
        "<h2>Soal 4: String Operation </h2>\n",
        "\n",
        "- masukan nama depan kamu kedalam suatu variable firstname\n",
        "- masukan nama belakang kamu kedalam suatu variable lasname\n",
        "- tampilkan suatu kalimat 'Hello sanbercode, saya firstname lastname! saya siap belajar python data science.'"
      ]
    },
    {
      "cell_type": "code",
      "execution_count": 7,
      "metadata": {
        "colab": {
          "base_uri": "https://localhost:8080/"
        },
        "id": "lSRwZ7xXwt_M",
        "outputId": "2cb6043c-0b30-43d9-a414-d205c42da527"
      },
      "outputs": [
        {
          "output_type": "stream",
          "name": "stdout",
          "text": [
            "Hello sanbercode, saya Ria Puan Adhitama ! saya siap belajar python data science.\n"
          ]
        }
      ],
      "source": [
        "firstname = 'Ria Puan'\n",
        "lastname = 'Adhitama'\n",
        "\n",
        "print ('Hello sanbercode, saya', firstname,lastname, '! saya siap belajar python data science.')"
      ]
    },
    {
      "cell_type": "markdown",
      "metadata": {
        "id": "0ROQJqBXwt_Q"
      },
      "source": [
        "Expected Output :\n",
        "\n",
        "Hello sanbercode, saya fauzan taufik! saya siap belajar python data science."
      ]
    },
    {
      "cell_type": "markdown",
      "metadata": {
        "id": "9DaWI8xdwt_Q"
      },
      "source": [
        "<h2>Soal 5: Tipe Data</h2>\n",
        "\n",
        "Lengkapi code di bawah ini untuk menghasilkan output yang sesuai"
      ]
    },
    {
      "cell_type": "code",
      "execution_count": 8,
      "metadata": {
        "colab": {
          "base_uri": "https://localhost:8080/"
        },
        "id": "wcDbgbjTwt_R",
        "outputId": "43d247b2-4b3e-4563-cb4d-99e1528e1f22"
      },
      "outputs": [
        {
          "output_type": "stream",
          "name": "stdout",
          "text": [
            "the number: 9.99999\n"
          ]
        }
      ],
      "source": [
        "p = 9.99999\n",
        "q = 'the number: '\n",
        "print(q + str (p))"
      ]
    },
    {
      "cell_type": "markdown",
      "metadata": {
        "id": "wdVRjDoLwt_V"
      },
      "source": [
        "Expected Output :\n",
        "\n",
        "the number: 9.99999"
      ]
    },
    {
      "cell_type": "markdown",
      "source": [
        "# Tugas Hari KEDUA_DATA STRUCTURE"
      ],
      "metadata": {
        "id": "KjS1SpVr1GkK"
      }
    },
    {
      "cell_type": "markdown",
      "metadata": {
        "id": "1O3NGQSKzf_A"
      },
      "source": [
        "# Data Structure"
      ]
    },
    {
      "cell_type": "markdown",
      "metadata": {
        "id": "m2VWq6g9szIv"
      },
      "source": [
        "<h2>Soal 1: Perbedaan Data Structure</h2>\n",
        "\n",
        "Jawab Pertanyaan di bawah ini:\n",
        "\n",
        "Jelaskan perbedaan dari List, Tuple, Set dan Dictionary!"
      ]
    },
    {
      "cell_type": "markdown",
      "metadata": {
        "id": "CO_5tbts9Od3"
      },
      "source": [
        "List merupakan tipe data berurut yang anggotanya dapat berasal dari berbagai tipe data, cara membuatnya dengan diawali dan diakhiri tanda kurung siku.\n",
        "Tuple sama seperti string dan list, merupakan anggota tipe data berurut, cara membuatnya dengan menggunakan kurung biasa atau tanpa tanda kurung.\n",
        "Set. satu-satunya anggota tipe data tak berurut dikarenakan set tidak mengenal indeks, membuat posisi tiap anggotanya tak jelas. Selain itu set punya sifat anggota yang unik artinya anggota satu dan yang lain tidak akan ada yang sama. Jika ada yang sama (duplikasi) maka akan dihapus salah satu. Cara membuatnya dengan menggunakan kurung kurawal.\n",
        "Dictionary. tipe data yang cara membuatnya sama seperti set membutuhkan tanda kurung kurawal, bedanya dalam dictionary anggotanya tersusun atas dua atribut key dan value yang keduanya ini dipisahkan denga tanda titik dua (key:value). Key dapat bertindak sebagai indeks jadi nilainya harus bersifat unik.\n",
        "\n",
        "List, Set dan Dictionary merupakan tipe data yang bersifat mutable. Khusus untuk set karena ia tidak mengenal indeks maka untuk mengubah isi di dalamnya membutuhkan sebuah fungsi.\n",
        "\n",
        "---\n",
        "\n",
        "\n",
        "\n",
        "---\n",
        "\n"
      ]
    },
    {
      "cell_type": "markdown",
      "metadata": {
        "id": "-31NFEy_xprf"
      },
      "source": [
        "# List"
      ]
    },
    {
      "cell_type": "markdown",
      "metadata": {
        "id": "XD1fT351szI2"
      },
      "source": [
        "<h2>Soal 2: Akses List</h2>\n",
        "\n",
        "Lengkapi kode untuk menghasilkan suatu output yang di harapkan"
      ]
    },
    {
      "cell_type": "code",
      "metadata": {
        "id": "qXKteY88szI5",
        "colab": {
          "base_uri": "https://localhost:8080/"
        },
        "outputId": "45499201-0158-4b1d-85ce-8e12442eef50"
      },
      "source": [
        "a = ['1', '13b', 'aa1', 1.32, 22.1, 2.34]\n",
        "# slicing list\n",
        "print(a[1:5])"
      ],
      "execution_count": null,
      "outputs": [
        {
          "output_type": "stream",
          "name": "stdout",
          "text": [
            "['13b', 'aa1', 1.32, 22.1]\n"
          ]
        }
      ]
    },
    {
      "cell_type": "markdown",
      "metadata": {
        "id": "4Qp2wjmOszJJ"
      },
      "source": [
        "Expected Output :\n",
        "\n",
        "[ '13b', 'aa1', 1.32, 22.1 ]"
      ]
    },
    {
      "cell_type": "markdown",
      "metadata": {
        "id": "zKS3e_kTszJm"
      },
      "source": [
        "<h2>Soal 3: Akses Nested List</h2>\n",
        "\n",
        "Lengkapi kode untuk menghasilkan suatu output yang di harapkan"
      ]
    },
    {
      "cell_type": "code",
      "metadata": {
        "id": "IhFh_WCzszJo",
        "colab": {
          "base_uri": "https://localhost:8080/"
        },
        "outputId": "bbed3dae-947b-44d8-98e9-bceb63c039c6"
      },
      "source": [
        "a = [\n",
        "    [5, 9, 8],\n",
        "    [0, 0, 6]\n",
        "    ]\n",
        "# subsetting list\n",
        "print(a[1][1], a[1][2])"
      ],
      "execution_count": null,
      "outputs": [
        {
          "output_type": "stream",
          "name": "stdout",
          "text": [
            "0 6\n"
          ]
        }
      ]
    },
    {
      "cell_type": "markdown",
      "metadata": {
        "id": "mk5EMa6pszJ2"
      },
      "source": [
        "Expected Output :\n",
        "\n",
        "\n",
        "[0, 6]"
      ]
    },
    {
      "cell_type": "code",
      "source": [
        "a = [1.32, 22.1, 2.34]\n",
        "b = ['1', '13b', 'aa1']\n",
        "c = [3, 40, 100]\n",
        "# combine list\n",
        "hasil = [a, c, b]\n",
        "print(hasil)"
      ],
      "metadata": {
        "colab": {
          "base_uri": "https://localhost:8080/"
        },
        "id": "upp-BWqKzIvh",
        "outputId": "e7101d14-f469-4582-eb7b-ca53c5eb0899"
      },
      "execution_count": null,
      "outputs": [
        {
          "output_type": "stream",
          "name": "stdout",
          "text": [
            "[[1.32, 22.1, 2.34], [3, 40, 100], ['1', '13b', 'aa1']]\n"
          ]
        }
      ]
    },
    {
      "cell_type": "markdown",
      "metadata": {
        "id": "cggENDN4szKX"
      },
      "source": [
        "<h2>Soal 4: List Manipulation</h2>\n",
        "\n",
        "Lengkapi kode untuk menghasilkan suatu output yang di harapkan"
      ]
    },
    {
      "cell_type": "code",
      "metadata": {
        "id": "o9_8JDPn8452",
        "colab": {
          "base_uri": "https://localhost:8080/"
        },
        "outputId": "288c84f8-7eec-4709-8a08-ef487d1aeb08"
      },
      "source": [
        "a = [\n",
        "    [5, 9, 8],\n",
        "    [0, 0, 6]\n",
        "    ]\n",
        "# change list value\n",
        "a[0][2] = 10\n",
        "a[1][0] = 11\n",
        "\n",
        "print(a)"
      ],
      "execution_count": null,
      "outputs": [
        {
          "output_type": "stream",
          "name": "stdout",
          "text": [
            "[[5, 9, 10], [11, 0, 6]]\n"
          ]
        }
      ]
    },
    {
      "cell_type": "markdown",
      "metadata": {
        "id": "iYHFRJW7szKl"
      },
      "source": [
        "Expected Output :\n",
        "\n",
        "[ [5, 9, 10], [11, 0, 6] ]"
      ]
    },
    {
      "cell_type": "code",
      "source": [
        "a = [1, 3, 5]\n",
        "b = [5, 1, 3]\n",
        "# combine list\n",
        "hasil = b + a\n",
        "print(hasil)"
      ],
      "metadata": {
        "colab": {
          "base_uri": "https://localhost:8080/"
        },
        "id": "gcby6C1tzhy1",
        "outputId": "ddead833-326f-4f1b-80be-f24b5f3b9151"
      },
      "execution_count": null,
      "outputs": [
        {
          "output_type": "stream",
          "name": "stdout",
          "text": [
            "[5, 1, 3, 1, 3, 5]\n"
          ]
        }
      ]
    },
    {
      "cell_type": "markdown",
      "metadata": {
        "id": "dSTDqY9iszKn"
      },
      "source": [
        "<h2>Soal 5: Delete Element List</h2>\n",
        "\n",
        "Lengkapi kode untuk menghasilkan suatu output yang di harapkan"
      ]
    },
    {
      "cell_type": "code",
      "metadata": {
        "id": "JXCqRPUO8_qI",
        "colab": {
          "base_uri": "https://localhost:8080/"
        },
        "outputId": "05377113-7639-49c9-8567-6d520284c6e6"
      },
      "source": [
        "areas = [\"hallway\", 11.25, \"kitchen\", 18.0,\n",
        "        \"chill zone\", 20.0, \"bedroom\", 10.75,\n",
        "         \"bathroom\", 10.50, \"poolhouse\", 24.5,\n",
        "         \"garage\", 15.45]\n",
        "\n",
        "# Hilangkan elemen yang bernilai \"bathroom\" dan 10.50 dalam satu statement code\n",
        "del(areas[8:10])\n",
        "\n",
        "print(areas)"
      ],
      "execution_count": null,
      "outputs": [
        {
          "output_type": "stream",
          "name": "stdout",
          "text": [
            "['hallway', 11.25, 'kitchen', 18.0, 'chill zone', 20.0, 'bedroom', 10.75, 'poolhouse', 24.5, 'garage', 15.45]\n"
          ]
        }
      ]
    },
    {
      "cell_type": "markdown",
      "metadata": {
        "id": "ZeF61jc_szK1"
      },
      "source": [
        "Expected Output:\n",
        "\n",
        "['hallway',\n",
        " 11.25,\n",
        " 'kitchen',\n",
        " 18.0,\n",
        " 'chill zone',\n",
        " 20.0,\n",
        " 'bedroom',\n",
        " 10.75,\n",
        " 'poolhouse',\n",
        " 24.5,\n",
        " 'garage',\n",
        " 15.45]\n",
        "\n"
      ]
    },
    {
      "cell_type": "markdown",
      "metadata": {
        "id": "onKmJ3XqY5FN"
      },
      "source": [
        "## Soal 6: List Comprehension\n",
        "\n",
        "Gunakan metode **list comprehension** untuk mencari anggota dari S yang habis di bagi 2, kemudian assign hasilnya dalam bentuk list ke dalam variabel T."
      ]
    },
    {
      "cell_type": "code",
      "metadata": {
        "id": "sUIB3iXK9H3K",
        "colab": {
          "base_uri": "https://localhost:8080/"
        },
        "outputId": "9b9304f5-f119-4913-aaa3-46fd53717127"
      },
      "source": [
        "S = [0, 1, 4, 9, 16, 25, 36, 49, 64, 81]\n",
        "\n",
        "T = [i for i in S if i%2==0]\n",
        "\n",
        "print(T)"
      ],
      "execution_count": null,
      "outputs": [
        {
          "output_type": "stream",
          "name": "stdout",
          "text": [
            "[0, 4, 16, 36, 64]\n"
          ]
        }
      ]
    },
    {
      "cell_type": "markdown",
      "metadata": {
        "id": "Jjn-28CDaShb"
      },
      "source": [
        "Expected Output:\n",
        "\n",
        "[0, 4, 16, 36, 64]"
      ]
    },
    {
      "cell_type": "markdown",
      "metadata": {
        "id": "C7ztBLG19LM6"
      },
      "source": [
        "\n",
        "\n",
        "---\n",
        "\n",
        "\n",
        "\n",
        "---\n",
        "\n"
      ]
    },
    {
      "cell_type": "markdown",
      "metadata": {
        "id": "yK3s_CB69Tx0"
      },
      "source": [
        "# Tuple"
      ]
    },
    {
      "cell_type": "markdown",
      "metadata": {
        "id": "vIvG32Rp9WvI"
      },
      "source": [
        "## Soal 7. Mengakses Tuple\n",
        "\n",
        "Gunakan cara sclicing untuk mengakses tuple sehingga mendapatkan hasil sesuai expected output"
      ]
    },
    {
      "cell_type": "code",
      "metadata": {
        "id": "XNsuiSLABsmQ",
        "colab": {
          "base_uri": "https://localhost:8080/"
        },
        "outputId": "7c93fe54-a413-4899-8393-48e48fc8e7ce"
      },
      "source": [
        "tuple_1 = (1, 2, 6, 7, 8, 9, 10)\n",
        "\n",
        "#akses tuple\n",
        "print(tuple_1[2:5])"
      ],
      "execution_count": null,
      "outputs": [
        {
          "output_type": "stream",
          "name": "stdout",
          "text": [
            "(6, 7, 8)\n"
          ]
        }
      ]
    },
    {
      "cell_type": "markdown",
      "metadata": {
        "id": "yJRgSBHKBvyD"
      },
      "source": [
        "Expected Outpout:\n",
        "\n",
        "\n",
        "(6, 7, 8)"
      ]
    },
    {
      "cell_type": "markdown",
      "metadata": {
        "id": "1oT6SOCmEuLA"
      },
      "source": [
        "\n",
        "\n",
        "---\n",
        "\n",
        "\n",
        "\n",
        "---\n",
        "\n"
      ]
    },
    {
      "cell_type": "markdown",
      "metadata": {
        "id": "gdBwjXz8zoMi"
      },
      "source": [
        "# Dictionary"
      ]
    },
    {
      "cell_type": "markdown",
      "metadata": {
        "id": "qjMKbE9D6qow"
      },
      "source": [
        "<h2>Soal 8: Menambahkan key-value baru ke Dictionary</h2>\n",
        "\n",
        "Lengkapi kode untuk menghasilkan suatu output yang di harapkan"
      ]
    },
    {
      "cell_type": "code",
      "metadata": {
        "id": "rU7Z5dzC6qox",
        "colab": {
          "base_uri": "https://localhost:8080/"
        },
        "outputId": "f67cf6e7-a0cd-43c7-cb45-01dc33b8fb98"
      },
      "source": [
        "europe = {'spain':'madrid', 'france':'paris', 'germany':'berlin', 'norway':'oslo' }\n",
        "\n",
        "# tambahkan key itali ke objek dictionary dengan value roma\n",
        "europe ['itali'] = 'roma'\n",
        "\n",
        "# cek apakah itali ada di dalam objek dictionary\n",
        "print('itali' in europe)"
      ],
      "execution_count": null,
      "outputs": [
        {
          "output_type": "stream",
          "name": "stdout",
          "text": [
            "True\n"
          ]
        }
      ]
    },
    {
      "cell_type": "markdown",
      "metadata": {
        "id": "ur84PUyz6qo1"
      },
      "source": [
        "Expected Output:\n",
        "    \n",
        "True"
      ]
    },
    {
      "cell_type": "code",
      "source": [
        "europe = {'spain':'madrid', 'france':'paris', 'germany':'berlin', 'norway':'oslo' }\n",
        "\n",
        "# print semua key yang ada di objek europe\n",
        "print('dict_keys', (['spain','france','germany', 'norway']))\n",
        "# print nilai dari key franche\n",
        "print(europe['france'])"
      ],
      "metadata": {
        "colab": {
          "base_uri": "https://localhost:8080/"
        },
        "id": "5comtMhezwHT",
        "outputId": "4acc5cc1-56f6-4a8e-c25d-68bf5e3c84dc"
      },
      "execution_count": null,
      "outputs": [
        {
          "output_type": "stream",
          "name": "stdout",
          "text": [
            "dict_keys ['spain', 'france', 'germany', 'norway']\n",
            "paris\n"
          ]
        }
      ]
    },
    {
      "cell_type": "markdown",
      "metadata": {
        "id": "bgilSLKl6qo2"
      },
      "source": [
        "<h2>Soal 9: Update dan Remove Dictinary</h2>\n",
        "    \n",
        "Lengkapi kode untuk menghasilkan suatu output yang di harapkan"
      ]
    },
    {
      "cell_type": "code",
      "metadata": {
        "id": "kglSlEvvFG15",
        "colab": {
          "base_uri": "https://localhost:8080/"
        },
        "outputId": "73b7ab82-bc28-40c2-8c4b-d3fd02542b3a"
      },
      "source": [
        "europe = {'spain':'madrid', 'france':'paris', 'germany':'bonn',\n",
        "          'norway':'oslo', 'italy':'rome', 'poland':'warsaw',\n",
        "          'australia':'vienna' }\n",
        "\n",
        "# update nilai ibukota german ke berlin\n",
        "europe ['germany'] = 'berlin'\n",
        "\n",
        "# remove australia dari europa\n",
        "europe.pop ('australia')\n",
        "\n",
        "print(europe)"
      ],
      "execution_count": null,
      "outputs": [
        {
          "output_type": "stream",
          "name": "stdout",
          "text": [
            "{'spain': 'madrid', 'france': 'paris', 'germany': 'berlin', 'norway': 'oslo', 'italy': 'rome', 'poland': 'warsaw'}\n"
          ]
        }
      ]
    },
    {
      "cell_type": "markdown",
      "metadata": {
        "id": "VDpHuoXS6qo6"
      },
      "source": [
        "Expected Output:\n",
        "\n",
        "{'spain': 'madrid', 'france': 'paris', 'germany': 'berlin', 'norway': 'oslo', 'italy': 'rome', 'poland': 'warsaw'}"
      ]
    },
    {
      "cell_type": "markdown",
      "metadata": {
        "id": "FNWyId1S6qo7"
      },
      "source": [
        "<h2>Soal 10: Nested Dictionary</h2>\n",
        "    \n",
        "Lengkapi kode untuk menghasilkan suatu output yang di harapkan"
      ]
    },
    {
      "cell_type": "code",
      "metadata": {
        "id": "GZTie49zFTh5",
        "colab": {
          "base_uri": "https://localhost:8080/"
        },
        "outputId": "3fe6ad63-cbc6-425a-8e94-6118a7c03acd"
      },
      "source": [
        "country = { \n",
        "           'spain': { 'capital':'madrid', 'population':46.77 },\n",
        "           'france': { 'capital':'paris', 'population':66.03 },\n",
        "           'germany': { 'capital':'berlin', 'population':80.62 },\n",
        "           'norway': { 'capital':'oslo', 'population':5.084 } \n",
        "         }\n",
        "\n",
        "# berapa populasi dari kota german?\n",
        "print(country['germany']['population'])\n",
        "\n",
        "# update data baru, yaitu negara indonesia dengan capital jakarta dan poulasi 250\n",
        "country1 = {'indonesia' : {'capital':'jakarta', 'population':250}}\n",
        "country.update(country1)\n",
        "\n",
        "print(country)"
      ],
      "execution_count": null,
      "outputs": [
        {
          "output_type": "stream",
          "name": "stdout",
          "text": [
            "80.62\n",
            "{'spain': {'capital': 'madrid', 'population': 46.77}, 'france': {'capital': 'paris', 'population': 66.03}, 'germany': {'capital': 'berlin', 'population': 80.62}, 'norway': {'capital': 'oslo', 'population': 5.084}, 'indonesia': {'capital': 'jakarta', 'population': 250}}\n"
          ]
        }
      ]
    },
    {
      "cell_type": "markdown",
      "metadata": {
        "id": "fKT0REFD6qo_"
      },
      "source": [
        "Expected Output:\n",
        "\n",
        "80.62\n",
        "\n",
        "{'spain': {'capital': 'madrid', 'population': 46.77}, 'france': {'capital': 'paris', 'population': 66.03}, 'germany': {'capital': 'berlin', 'population': 80.62}, 'norway': {'capital': 'oslo', 'population': 5.084}, 'indonesia': {'capital': 'jakarta', 'population': 250}}"
      ]
    },
    {
      "cell_type": "markdown",
      "metadata": {
        "id": "xefUN_T56qpA"
      },
      "source": [
        "<h2>Soal 11: Loop Dictionary</h2>\n",
        "    \n",
        "Lengkapi kode untuk menghasilkan suatu output yang di harapkan"
      ]
    },
    {
      "cell_type": "code",
      "metadata": {
        "id": "6--DAeB8Fjwo",
        "colab": {
          "base_uri": "https://localhost:8080/"
        },
        "outputId": "7d39870b-c87d-477d-d01f-cdcbe12252ea"
      },
      "source": [
        "country = { \n",
        "           'spain': { 'capital':'madrid', 'population':46.77 },\n",
        "           'france': { 'capital':'paris', 'population':66.03 },\n",
        "           'germany': { 'capital':'berlin', 'population':80.62 },\n",
        "           'norway': { 'capital':'oslo', 'population':5.084 },\n",
        "           'indonesia' : {'capital':'jakarta', 'population':250}\n",
        "         }\n",
        "\n",
        "for i, j in country.items():\n",
        "    print('Ibukota '+ i +' adalah ' + j ['capital'])"
      ],
      "execution_count": null,
      "outputs": [
        {
          "output_type": "stream",
          "name": "stdout",
          "text": [
            "Ibukota spain adalah madrid\n",
            "Ibukota france adalah paris\n",
            "Ibukota germany adalah berlin\n",
            "Ibukota norway adalah oslo\n",
            "Ibukota indonesia adalah jakarta\n"
          ]
        }
      ]
    },
    {
      "cell_type": "markdown",
      "metadata": {
        "id": "YjX6xAtj6qpE"
      },
      "source": [
        "Expected Output:\n",
        "    \n",
        "Ibukota spain adalah madrid\n",
        "\n",
        "Ibukota france adalah paris\n",
        "\n",
        "Ibukota germany adalah berlin\n",
        "\n",
        "Ibukota norway adalah oslo\n",
        "\n",
        "Ibukota indonesia adalah jakarta"
      ]
    },
    {
      "cell_type": "markdown",
      "metadata": {
        "id": "y2zgwVoWFrvN"
      },
      "source": [
        "\n",
        "\n",
        "---\n",
        "\n",
        "\n",
        "\n",
        "---\n",
        "\n"
      ]
    },
    {
      "cell_type": "markdown",
      "metadata": {
        "id": "WqSWJGhxFtLL"
      },
      "source": [
        "# Set"
      ]
    },
    {
      "cell_type": "markdown",
      "metadata": {
        "id": "hcGbe-6hFxQr"
      },
      "source": [
        "## Soal 12: Remove Duplicate using set\n",
        "\n",
        "\n",
        "Hilangkan nilai duplikat dari sebuah objek list dengan menggunakan cara set sehingga menjadi sebuah tipe set"
      ]
    },
    {
      "cell_type": "code",
      "metadata": {
        "id": "NNVA6tNqFsan",
        "colab": {
          "base_uri": "https://localhost:8080/"
        },
        "outputId": "363ae9c8-2f49-4d09-c034-f6a3378a357d"
      },
      "source": [
        "obj_list = [1, 2, 3, 4, 5, 5, 6, 7, 8, 9, 9, 10]\n",
        "\n",
        "#using set\n",
        "obj_list.remove(9)\n",
        "print(obj_list)"
      ],
      "execution_count": null,
      "outputs": [
        {
          "output_type": "stream",
          "name": "stdout",
          "text": [
            "[1, 2, 3, 4, 5, 5, 6, 7, 8, 9, 10]\n"
          ]
        }
      ]
    },
    {
      "cell_type": "markdown",
      "metadata": {
        "id": "mYiIvESyGeSM"
      },
      "source": [
        "Expected output: \n",
        "\n",
        "{1, 2, 3, 4, 5, 6, 7, 8, 9, 10}"
      ]
    },
    {
      "cell_type": "markdown",
      "metadata": {
        "id": "7yDz5di2HIR0"
      },
      "source": [
        "## Soal 13: Mengubah dan menghapus anggota set\n",
        "\n",
        "Ubahlah dan hapus anggota set sehingga mendapatkan hasil yang diinginkan\n"
      ]
    },
    {
      "cell_type": "code",
      "metadata": {
        "id": "ecDrSJFrN3E0",
        "colab": {
          "base_uri": "https://localhost:8080/"
        },
        "outputId": "0106c4e1-e78d-4834-ed60-9611e1ec4b9c"
      },
      "source": [
        "set_1 = {1, 2, 3, 4, 5}\n",
        "\n",
        "#tambahkan anggota set dengan nilai {6,7,8}\n",
        "set_1.update([6,7,8])\n",
        "#hapus nilai anggota set 8\n",
        "set_1.discard(8)\n",
        "\n",
        "print(set_1)"
      ],
      "execution_count": null,
      "outputs": [
        {
          "output_type": "stream",
          "name": "stdout",
          "text": [
            "{1, 2, 3, 4, 5, 6, 7}\n"
          ]
        }
      ]
    },
    {
      "cell_type": "markdown",
      "metadata": {
        "id": "ivvRxwHgOibz"
      },
      "source": [
        "Expected output:\n",
        "\n",
        "{1, 2, 3, 4, 5, 6, 7}"
      ]
    },
    {
      "cell_type": "markdown",
      "metadata": {
        "id": "Zl8p-uBuO7Av"
      },
      "source": [
        "## Soal 14: Operasi pada Set\n",
        "\n",
        "Carilah irisan dari ke dua set dengan menggunakan metode intersection"
      ]
    },
    {
      "cell_type": "code",
      "metadata": {
        "colab": {
          "base_uri": "https://localhost:8080/"
        },
        "id": "PQLEqbUCOWPN",
        "outputId": "a3ae9548-e99e-4656-ccd5-f18569e6f518"
      },
      "source": [
        "set_2 = {6, 8, 9, 10, 24}\n",
        "set_3 = {6, 10, 8, 25, 13}\n",
        "\n",
        "#intersection set\n",
        "print(set_3.intersection(set_2))"
      ],
      "execution_count": null,
      "outputs": [
        {
          "output_type": "stream",
          "name": "stdout",
          "text": [
            "{8, 10, 6}\n"
          ]
        }
      ]
    },
    {
      "cell_type": "markdown",
      "metadata": {
        "id": "5a2uwgZbPk6Z"
      },
      "source": [
        "Expected output:\n",
        "\n",
        "\n",
        "{6, 8, 10}"
      ]
    },
    {
      "cell_type": "markdown",
      "source": [
        "Built in Function"
      ],
      "metadata": {
        "id": "zdL0G-87zTi4"
      }
    },
    {
      "cell_type": "code",
      "source": [
        "p = [0, 5, 2, 10, 4, 9]\n",
        "# ordered list\n",
        "print(sorted(p, reverse=False))\n",
        "# get max value of list\n",
        "print(max(p))"
      ],
      "metadata": {
        "colab": {
          "base_uri": "https://localhost:8080/"
        },
        "id": "p98okUcxzWWg",
        "outputId": "f0743be3-6899-4540-e617-cdad9f4ff106"
      },
      "execution_count": null,
      "outputs": [
        {
          "output_type": "stream",
          "name": "stdout",
          "text": [
            "[0, 2, 4, 5, 9, 10]\n",
            "10\n"
          ]
        }
      ]
    },
    {
      "cell_type": "markdown",
      "source": [
        "# Tugas hari KETIGA_FUNCTION AND METHOD"
      ],
      "metadata": {
        "id": "a1kVsHED6i_c"
      }
    },
    {
      "cell_type": "markdown",
      "metadata": {
        "id": "I6jmLA-RYrt5"
      },
      "source": [
        "<h2>Soal 1: Helper Function</h2>\n",
        "\n",
        "Jawab Pertanyaan di bawah ini:\n",
        "\n",
        "Misalkan kamu ingin mengetahui tentang kegunaan fungsi 'len' di Python, maka fungsi apa yang bisa kamu gunakan untuk menolong kamu?"
      ]
    },
    {
      "cell_type": "code",
      "metadata": {
        "id": "VrvyQxGJYrt9",
        "outputId": "49046964-c94c-475d-98b1-3165bdd9d633"
      },
      "source": [
        "# lengkapi code ini\n",
        "print(help(len))"
      ],
      "execution_count": null,
      "outputs": [
        {
          "name": "stdout",
          "output_type": "stream",
          "text": [
            "Help on built-in function len in module builtins:\n",
            "\n",
            "len(obj, /)\n",
            "    Return the number of items in a container.\n",
            "\n",
            "None\n"
          ]
        }
      ]
    },
    {
      "cell_type": "markdown",
      "metadata": {
        "id": "KrcuFTuAYruT"
      },
      "source": [
        "<h2>Soal 2: Built-in Function</h2>\n",
        "\n",
        "Jawab Pertanyaan di bawah ini:\n",
        "    \n",
        "Apa itu built-in Function?\n",
        "\n",
        "Sebutkan 3 built-in Function di pyhon!\n",
        "\n",
        "Berikan contoh masing2 1 cara penggunaan built-in function yang kamu sebutkan sebelumnya"
      ]
    },
    {
      "cell_type": "markdown",
      "metadata": {
        "id": "xro-58_CYruW"
      },
      "source": [
        "//isi jawaban text disini\n",
        "Built-in function dalam python merupakaan fungsi bawaan yang ada di python atau fungsi yang dibangun oleh python yang digunakan untuk melakukan berbagai hal.\n",
        "Contoh built-in function di python :\n",
        "    1. bin() , yaitu fungsi yang digunakan untuk mengubah integer menjadi string biner.\n",
        "    2. round(), yaitu fungsi yang digunakan untuk membulatkan bilangan yang berkoma.\n",
        "    3. float(), yaitu fungsi yang digunakan untuk mengembalikan bilangan float dari bilangan atau string."
      ]
    },
    {
      "cell_type": "code",
      "metadata": {
        "id": "Xv7lHkgfYruY",
        "outputId": "e966f952-915e-470a-dd67-7913add437cf"
      },
      "source": [
        "# Contoh Penggunaan Built-in Function\n",
        "\n",
        "#1. Contoh Penggunaan Fungsi bin ()\n",
        "angka = 2506\n",
        "print('Nilai biner dari 2506 yaitu', bin(angka))\n",
        "\n",
        "#2. Contoh Penggunaan Fungsi round ()\n",
        "x =round (1.68, 1)\n",
        "print('Didapatkan nilai : ', x)\n",
        "\n",
        "#3. Contoh Penggunaan Fungsi sloat ()\n",
        "p = 15\n",
        "q = 3\n",
        "Hasil = p/q\n",
        "print('Diperoleh nilai : ', float(Hasil))\n"
      ],
      "execution_count": null,
      "outputs": [
        {
          "name": "stdout",
          "output_type": "stream",
          "text": [
            "Nilai biner dari 2506 yaitu 0b100111001010\n",
            "Didapatkan nilai :  1.7\n",
            "Diperoleh nilai :  5.0\n"
          ]
        }
      ]
    },
    {
      "cell_type": "markdown",
      "metadata": {
        "id": "yhWXiPNDYrul"
      },
      "source": [
        "<h2>Soal 3: Method dan Function</h2>\n",
        "\n",
        "Jawab Pertanyaan di bawah ini:\n",
        "    \n",
        "- Apa perbedaan method dan function?"
      ]
    },
    {
      "cell_type": "markdown",
      "metadata": {
        "id": "rqpTJlgDYrun"
      },
      "source": [
        "Function itu independen yang berarti tidak terikat dengan suatu objek, dimana saat kita membuat suatu fungsi kita tidak perlu mengikat suatu objek. Function bersifat explisit dan tidak berurusan dengan Python Class.\n",
        "Sedangkan method bersifat dependen yang berarti terasosiasi dengan suatu objek (merupakan fungsi dari suatu objek), bersifat implisit, dan bisa beroperasi dengan Python Class."
      ]
    },
    {
      "cell_type": "markdown",
      "metadata": {
        "id": "tUU1xgYBYrup"
      },
      "source": [
        "<h2>Soal 4: Menggunkan Method String</h2>\n",
        "\n",
        "Lengkapi kode untuk menghasilkan suatu output yang di harapkan"
      ]
    },
    {
      "cell_type": "code",
      "metadata": {
        "id": "037gauOGYrur",
        "outputId": "9b3bcce9-0159-4598-aadc-183319768f00"
      },
      "source": [
        "kalimat = \"Corona cepat selesai\"\n",
        "\n",
        "# gunakan method untuk mengubah nilai kalimat menjadi uppercase semua kemudian tampilkan hasilnya\n",
        "print(kalimat.upper())\n",
        "\n",
        "# gunakan method untuk menghitung berapa huruf e di dalam kalimat\n",
        "print(kalimat.count(\"e\"))"
      ],
      "execution_count": null,
      "outputs": [
        {
          "name": "stdout",
          "output_type": "stream",
          "text": [
            "CORONA CEPAT SELESAI\n",
            "3\n"
          ]
        }
      ]
    },
    {
      "cell_type": "markdown",
      "metadata": {
        "id": "fPTd4R5VYru5"
      },
      "source": [
        "Expected Output:\n",
        "\n",
        "CORONA CEPAT SELESAI\n",
        "\n",
        "3"
      ]
    },
    {
      "cell_type": "markdown",
      "metadata": {
        "id": "IPjp5vwDYrvL"
      },
      "source": [
        "<h2>Soal 5: Membuat Simple Function</h2>\n",
        "\n",
        "Buatlah suatu fungsi yang menerima satu input argumen berbentuk list dan mempunyai elemen bertipe numeric semua, dimana fungsi tersebut berguna untuk menghitung rata2 dari kumpulan elemen list tersebut. namai fungsi tersebut 'mean_list'"
      ]
    },
    {
      "cell_type": "code",
      "metadata": {
        "id": "smoKI9zIYrvO",
        "outputId": "3fea918e-7dfe-47ad-abd0-c2b29add1f37"
      },
      "source": [
        "obj_list = [11.25, 18.0, 20.0, 10.75, 9.50]\n",
        "def mean_list(inp_list):\n",
        "    jumlah=sum(inp_list)\n",
        "    bagi=len(inp_list)\n",
        "    return jumlah/bagi\n",
        "    \n",
        "print(mean_list(obj_list))"
      ],
      "execution_count": null,
      "outputs": [
        {
          "name": "stdout",
          "output_type": "stream",
          "text": [
            "13.9\n"
          ]
        }
      ]
    },
    {
      "cell_type": "markdown",
      "metadata": {
        "id": "MVAvoHHgYrva"
      },
      "source": [
        "Expected Output:\n",
        "\n",
        "13.9"
      ]
    },
    {
      "cell_type": "markdown",
      "metadata": {
        "id": "A8jjpNC8Yrvc"
      },
      "source": [
        "<h2>Soal 6: Membuat Function dengan Multiple arguments</h2>\n",
        "\n",
        "Buatlah suatu fungsi untuk melakukan penggabungan antara dua list"
      ]
    },
    {
      "cell_type": "code",
      "metadata": {
        "id": "r42z4mafYrve",
        "outputId": "74d6a20c-4610-4e66-82e7-c1acb1ec59e0"
      },
      "source": [
        "obj_list = [2, 4, 5, 6]\n",
        "obj_penambah = [1, 2, 3]\n",
        "\n",
        "def kali_list(obj_list, obj_penambahan):\n",
        "    # isikan kode\n",
        "    total = (obj_list + obj_penambahan)\n",
        "    return total\n",
        "    \n",
        "    \n",
        "print(kali_list(obj_list, obj_penambah))"
      ],
      "execution_count": null,
      "outputs": [
        {
          "name": "stdout",
          "output_type": "stream",
          "text": [
            "[2, 4, 5, 6, 1, 2, 3]\n"
          ]
        }
      ]
    },
    {
      "cell_type": "markdown",
      "metadata": {
        "id": "RYhU921kYrvp"
      },
      "source": [
        "Expected Output:\n",
        "\n",
        "[2, 4, 5, 6, 1, 2, 3]"
      ]
    },
    {
      "cell_type": "markdown",
      "source": [
        "# Tugas hari KEEMPAT_LOGIC CONTROL FLOW & LOOPING"
      ],
      "metadata": {
        "id": "qoIJ4EnW9TH3"
      }
    },
    {
      "cell_type": "markdown",
      "metadata": {
        "id": "a9HYUdCUsrKl"
      },
      "source": [
        "<h2>Soal 1: Comparison Operator</h2>\n",
        "\n",
        "- Berikan contoh comparison dari tipe data string\n",
        "- Berikan contoh comparison dari tipe data boolean\n",
        "- Berikan contoh comparison dari tipe data integer"
      ]
    },
    {
      "cell_type": "code",
      "metadata": {
        "id": "lXMCHZ71srKp",
        "outputId": "50ebbfac-599d-4d2b-91e6-614c7c98aa82"
      },
      "source": [
        "#Contoh Comparison dari tipe data string\n",
        "\n",
        "print('\"Itu\" dengan \"itu\" apakah sama?', 'itu' == 'itu')\n",
        "\n",
        "#Contoh Comparison dari tipe data boolean\n",
        "\n",
        "print ('\"False\" dengan \"False\" apakah sama?', False == False)\n",
        "\n",
        "#Contoh Comparison dari tipe data integer\n",
        "\n",
        "print('Benarkah nilai 3 samadengan 9?', 3 == 9)"
      ],
      "execution_count": null,
      "outputs": [
        {
          "name": "stdout",
          "output_type": "stream",
          "text": [
            "\"Itu\" dengan \"itu\" apakah sama? True\n",
            "\"False\" dengan \"False\" apakah sama? True\n",
            "Benarkah nilai 3 samadengan 9? False\n"
          ]
        }
      ]
    },
    {
      "cell_type": "markdown",
      "metadata": {
        "id": "IbNoZvVssrK5"
      },
      "source": [
        "<h2>Soal 2: Boolean Comparison</h2>\n",
        "\n",
        "- Berikan contoh gabungan multiple comparison menggunkan Boolean Comparisin 'and'\n",
        "- Berikan contoh gabungan multiple comparison menggunkan Boolean Comparisin 'or'\n",
        "- Berikan contoh gabungan multiple comparison menggunkan Boolean Comparisin 'not'"
      ]
    },
    {
      "cell_type": "code",
      "metadata": {
        "id": "7eU1vPLCsrK7",
        "outputId": "68f92e03-fded-4856-c38d-2e9dec8d930a"
      },
      "source": [
        "#Boolean Comparison and\n",
        "\n",
        "def kehadiran(nama,NIM):\n",
        "    if nama=='Benar' and NIM=='Benar':\n",
        "        print('Kahadiran dianggap Masuk')\n",
        "    else :\n",
        "        print('Kehadiran dianggap Tidak Masuk')\n",
        "        \n",
        "        \n",
        "#Boolean Comparison or\n",
        "\n",
        "def kriteria(Perempuan, Jurusan_Matematika) :\n",
        "    if Perempuan=='Benar' or Jurusan_Matematika=='Benar' :\n",
        "        print('Kriteria Terpenuhi')\n",
        "    else :\n",
        "        print('Kriteria Tidak Terpenuhi')\n",
        "        \n",
        "\n",
        "#Boolean Comparison not\n",
        "\n",
        "a=15\n",
        "if(not a) :\n",
        "    print('Benar')\n",
        "else :\n",
        "    print('Salah')"
      ],
      "execution_count": null,
      "outputs": [
        {
          "name": "stdout",
          "output_type": "stream",
          "text": [
            "Salah\n"
          ]
        }
      ]
    },
    {
      "cell_type": "markdown",
      "metadata": {
        "id": "Yp_g_sPMsrLH"
      },
      "source": [
        "<h2>Soal 3: If-Else Statement</h2>\n",
        "\n",
        "Lengkapi kode untuk menghasilkan suatu output yang di harapkan\n",
        "\n",
        "- Bualah sebuah if-else statement yang dimana akan mem-print 'Besar' jika ruangan adalah 'Kamar' dan ukuran lebih dari 12, kemudian mem-print 'Sedang' jika ruangan adalah 'Kamar' dan ukuran lebih dari 6 dan memprint 'Kecil' jika ruangan adalah 'Kamar' dan ukuran ruangan lebih kecil dan sama dengan 6."
      ]
    },
    {
      "cell_type": "code",
      "metadata": {
        "id": "euRiRNupsrLK",
        "outputId": "567b89f1-0fc4-4447-b111-2fc10c8b4a22"
      },
      "source": [
        "ruangan = 'Kamar'\n",
        "size = 20\n",
        "\n",
        "if ruangan == 'Kamar' and size>=12 :\n",
        "    print('Besar')\n",
        "elif ruanggan == 'Kamar' and size>=6 :\n",
        "    print('Sedang')\n",
        "elif ruangan == 'Kamar' and size <=6 :\n",
        "    print('Kecil')\n",
        "else :\n",
        "    print('-')"
      ],
      "execution_count": null,
      "outputs": [
        {
          "name": "stdout",
          "output_type": "stream",
          "text": [
            "Besar\n"
          ]
        }
      ]
    },
    {
      "cell_type": "markdown",
      "metadata": {
        "id": "IcoJXJT1srLW"
      },
      "source": [
        "<h2>Soal 4: Comparison Operator dengan fungsi</h2>\n",
        "\n",
        "Buatlah sebuah fungsi yang menerima satu argument bertipe data numeric dan menghasilkan sebuah return sebagai berikut :\n",
        "- menghasilkan return 'Aneh' jika nilai dari argument tersebut adalah bilangan ganjil\n",
        "- menghasilkan return 'Tidak Aneh' jika nilai dari argument tersebut adalah bilangan genap dan diantara nilai 2 sampai 5 (2 dan 5 termasuk)\n",
        "- menghasilkan return 'Aneh' jika nilai dari argument tersebut adalah bilangan genap dan diantara nilai 6 sampai 20 (6 dan 20 termasuk)\n",
        "- menghasilkan return 'Tidak Aneh' jika nilai dari argument tersebut adalah bilangan genap dan lebih besari dari 20"
      ]
    },
    {
      "cell_type": "code",
      "metadata": {
        "id": "g8F_qfEKsrLZ",
        "outputId": "7364ad65-8bcc-4955-db03-2dcf4bdd8985"
      },
      "source": [
        "# Buat fungsi\n",
        "\n",
        "def Weirdnumb(x) :\n",
        "    if x % 2!=0 :\n",
        "            print('Aneh')\n",
        "    elif (x % 2==0) and (2<=x>=5) :\n",
        "            print('Tidak Aneh')\n",
        "    elif (x % 2==0) and (6<=x>=20) :\n",
        "            print('Aneh')\n",
        "    elif (x % 2==0) and (x>20) :\n",
        "            print('Tidak Aneh')\n",
        "            \n",
        "print(Weirdnumb(8))"
      ],
      "execution_count": null,
      "outputs": [
        {
          "name": "stdout",
          "output_type": "stream",
          "text": [
            "Tidak Aneh\n",
            "None\n"
          ]
        }
      ]
    },
    {
      "cell_type": "markdown",
      "metadata": {
        "id": "gf0D64xOsrLl"
      },
      "source": [
        "<h2>Soal 5: While Loop dan For Loop</h2>\n",
        "\n",
        "- Apa perbedaan while loop dan for loop?\n",
        "- Berikan contoh sederhana cara menggunakan while loop dan for loop"
      ]
    },
    {
      "cell_type": "code",
      "metadata": {
        "id": "l7KIgpjHsrLo",
        "outputId": "8e3e0765-33d0-4bd5-9540-0428669db87d"
      },
      "source": [
        "#For loop (perulangan yang terhitung), biasanya digunakan untuk mengulangi kode yang sudah diketahui banyaknya perulangan. \n",
        "#Sedangkan while loop (perulangan yang tidak terhitung), biasanya digunakan untuk perulangan yang memiliki syarat dan tidak tentu berapa banyak perulangannya.\n",
        "\n",
        "# Tulis Kode\n",
        "\n",
        "#While Loop\n",
        "i = 0\n",
        "while i<10 :\n",
        "    print(i, end='')\n",
        "    i+=1\n",
        "    \n",
        "#For Loop\n",
        "for i in range(10) :\n",
        "    print(i, end='')"
      ],
      "execution_count": null,
      "outputs": [
        {
          "name": "stdout",
          "output_type": "stream",
          "text": [
            "01234567890123456789"
          ]
        }
      ]
    },
    {
      "cell_type": "markdown",
      "metadata": {
        "id": "fZQpBGCgsrLz"
      },
      "source": [
        "<h2>Soal 6: While Loop</h2>\n",
        "    \n",
        "Buatlah sebuah code while loop sebagai berikut :\n",
        "- Buatlah suatu fungsi yang merima satu input nilai numeric\n",
        "- Dalam fungsi, Buat sebuah while-loop dengan melakukan comparasi terhadap inputan tersebut, dimana looping/iterasi terus berjalan apabila nilai inputan tidak sama dengan 0\n",
        "- Dalam setiap iterasi update nilai variable inputan itu, jika input lebih dari 0, maka kurangi variabel tersebut sebesar 1, selain itu tambahkan 1\n",
        "- print nilai variable input dalam setiap awal iterasi"
      ]
    },
    {
      "cell_type": "code",
      "metadata": {
        "id": "yOiqjrU2srL1",
        "outputId": "18a82cc3-9bef-42ff-9183-ba7f3d8d5e79"
      },
      "source": [
        "a = 10\n",
        "\n",
        "def fungsi_while(a):\n",
        "        while a !=0:\n",
        "            print(a)\n",
        "            if a>0 :\n",
        "                a=a-1\n",
        "            else :\n",
        "                a=a+1\n",
        "\n",
        "fungsi_while(a)"
      ],
      "execution_count": null,
      "outputs": [
        {
          "name": "stdout",
          "output_type": "stream",
          "text": [
            "10\n",
            "9\n",
            "8\n",
            "7\n",
            "6\n",
            "5\n",
            "4\n",
            "3\n",
            "2\n",
            "1\n"
          ]
        }
      ]
    },
    {
      "cell_type": "markdown",
      "metadata": {
        "id": "lKzngRrlsrMD"
      },
      "source": [
        "Expected Output:\n",
        "\n",
        "10\n",
        "\n",
        "9\n",
        "\n",
        "8\n",
        "\n",
        "7\n",
        "\n",
        "6\n",
        "\n",
        "5\n",
        "\n",
        "4\n",
        "\n",
        "3\n",
        "\n",
        "2\n",
        "\n",
        "1"
      ]
    },
    {
      "cell_type": "markdown",
      "metadata": {
        "id": "IWg3Z_zZsrMG"
      },
      "source": [
        "<h2>Soal 7: For Loop</h2>\n",
        "    \n",
        "Lengkapi kode untuk menghasilkan suatu output yang di harapkan:\n",
        "\n",
        "- Buatlah sebuah loop dengan mengiterasi sebuah objek list kemudian di kalikan dengan index dari list tersebut dan print hasilnya"
      ]
    },
    {
      "cell_type": "code",
      "metadata": {
        "id": "_Jl5i7WKsrMI",
        "outputId": "5fcae269-ec81-4c5f-f85f-6cf6c86d1189"
      },
      "source": [
        "obj_list= [1, 16, 11, 10, 5]\n",
        "\n",
        "# lengkapi code di bawah\n",
        "for i, angka in enumerate(obj_list):\n",
        "        print(i * angka)\n"
      ],
      "execution_count": null,
      "outputs": [
        {
          "name": "stdout",
          "output_type": "stream",
          "text": [
            "0\n",
            "16\n",
            "22\n",
            "30\n",
            "20\n"
          ]
        }
      ]
    },
    {
      "cell_type": "markdown",
      "metadata": {
        "id": "OGawROjnsrMU"
      },
      "source": [
        "Expected Output:\n",
        "\n",
        "0\n",
        "\n",
        "16\n",
        "\n",
        "22\n",
        "\n",
        "30\n",
        "\n",
        "20\n"
      ]
    },
    {
      "cell_type": "markdown",
      "source": [
        "# Tugas hari KEEMPAT_LOGIC CONTROL FLOW & LOOPING"
      ],
      "metadata": {
        "id": "SYFJR0Co-Glx"
      }
    },
    {
      "cell_type": "markdown",
      "metadata": {
        "id": "fyoYEJKw6qoo"
      },
      "source": [
        "# Soal 1: Law of Large Numbers\n",
        "\n",
        "Menurut Law of Large Numbers (LLN) jika kita mengulang suatu percobaan, semakin banyak kita mengulang maka rata-rata hasil yang di dapat akan mendekati apa yang kita perkirakan.\n",
        "\n",
        "![alt text](https://wikimedia.org/api/rest_v1/media/math/render/svg/e8dff3831b1e5b6f0e187c733583ab8d02574363)\n",
        "\n",
        "Sebagai caontoh, sebuah dadu dengan 6-sisi akan menghasilkan angka 1, 2, 3, 4, 5, atau 6 dengan probabilitas yang sama untuk masing-masing angkanya. Maka, perkiraan rata-rata hasil yang akan di dapat adalah (1+2+3+4+5+6)/6 = 3.5\n",
        "Menurut LLN, semakin banyak kita mengocok dadu, maka rata-rata hasil yang didapatkan akan semakin mendekati nilai perkiraan rata-ratanya yaitu 3.5\n",
        "\n",
        "![alt text](https://upload.wikimedia.org/wikipedia/commons/thumb/c/c9/Lawoflargenumbers.svg/400px-Lawoflargenumbers.svg.png)\n",
        "\n",
        "Begitu juga jika kita memiliki sebuah dataset berisi angka-angka acak dengan nilai rata-rata(μ) = 0 dan standar deviasi(σ) = 1, maka angka-angka tersebut akan terdistribusi secara normal dengan semakin banyaknya isi dari dataset tersebut.\n",
        "\n",
        "![alt text](https://img.favpng.com/9/9/7/standard-deviation-normal-distribution-mean-statistics-png-favpng-5cX7qC8aqmp0pQthmW3nSVj9a.jpg)\n",
        "\n",
        "Dari gambar di atas, maka semakin banyaknya isi dari dataset, jumlah angka-angka pada dataset yang memiliki nilai -1 < angka < 1 akan semakin mendekati 68.2%.\n",
        "Lengkapi code dibawah ini untuk membuktikan hal tersebut.\n"
      ]
    },
    {
      "cell_type": "code",
      "execution_count": null,
      "metadata": {
        "id": "SkYQ0sD76qpA",
        "outputId": "404bd4f3-8d61-467b-eea0-4a4a19b113d1"
      },
      "outputs": [
        {
          "name": "stdout",
          "output_type": "stream",
          "text": [
            "0.69\n"
          ]
        }
      ],
      "source": [
        "import numpy as np\n",
        "from numpy.random import randn\n",
        "\n",
        "N = 1000                      #Tentukan ukuran sampel\n",
        "counter = 0                 #Untuk mereset perhitungan\n",
        "\n",
        "for i in randn (N):               #Mulai iterasi dan tambahkan nilai counter jika memenuhi syarat\n",
        "    if (-1 <= i<= 1):\n",
        "        counter = counter + 1\n",
        "\n",
        "\n",
        "hasil = counter/N           #Hitung nilai persentase jumlahnya\n",
        "print(hasil)"
      ]
    },
    {
      "cell_type": "markdown",
      "metadata": {
        "id": "lbGK0ue5y76R"
      },
      "source": [
        "---"
      ]
    },
    {
      "cell_type": "markdown",
      "metadata": {
        "id": "X0UMLFYQy-_B"
      },
      "source": [
        "# Soal 2: Menghitung nilai-nilai dari statistika deskriptif"
      ]
    },
    {
      "cell_type": "code",
      "execution_count": null,
      "metadata": {
        "id": "xBo8ifmly7Kx"
      },
      "outputs": [],
      "source": [
        "import statistics\n",
        "import numpy as np\n",
        "import scipy.stats\n",
        "\n",
        "#Berikut adalah data dari breast cancer dataset, area dan status mematikan atau tidaknya\n",
        "\n",
        "area = [1001. , 1326. , 1203. ,  386.1, 1297. ,  477.1, 1040. ,  577.9, 519.8,  475.9,  797.8,  781. , 1123. ,  782.7,  578.3,  658.8, 684.5,  798.8, 1260. ,  566.3,  520. ,  273.9,  704.4, 1404. ,\n",
        "        904.6,  912.7,  644.8, 1094. ,  732.4,  955.1, 1088. ,  440.6, 899.3, 1162. ,  807.2,  869.5,  633. ,  523.8,  698.8,  559.2, 563. ,  371.1, 1104. ,  545.2,  531.5, 1076. ,  201.9,  534.6,\n",
        "        449.3,  561. ,  427.9,  571.8,  437.6, 1033. ,  712.8,  409. , 1152. ,  656.9,  527.2,  224.5,  311.9,  221.8,  645.7,  260.9, 499. ,  668.3,  269.4,  394.1,  250.5,  502.5, 1130. ,  244. ,\n",
        "        929.4,  584.1,  470.9,  817.7,  559.2, 1006. , 1245. ,  506.3, 401.5,  520. , 1878. , 1132. ,  443.3, 1075. ,  648.2, 1076. , 466.1,  651.9,  662.7,  728.2,  551.7,  555.1,  705.6, 1264. ,\n",
        "        451.1,  294.5,  412.6,  642.5,  582.7,  143.5,  458.7,  298.3, 336.1,  530.2,  412.5,  466.7, 1509. ,  396.5,  290.2,  480.4, 629.9,  334.2,  230.9,  438.6,  245.2,  682.5,  782.6,  982. ,\n",
        "        403.3, 1077. , 1761. ,  640.7,  553.5,  588.7,  572.6, 1138. , 674.5, 1192. ,  455.8,  748.9,  809.8,  761.7, 1075. ,  506.3, 423.6,  399.8,  678.1,  384.8,  288.5,  813. ,  398. ,  512.2,\n",
        "        355.3,  432.8,  432. ,  689.5,  640.1,  585. ,  519.4,  203.9, 300.2,  381.9,  538.9,  460.3,  963.7,  880.2,  448.6,  366.8, 419.8, 1157. , 1214. ,  464.5, 1686. ,  690.2,  357.6,  886.3,\n",
        "        984.6,  685.9,  464.1,  565.4,  736.9,  372.7,  349.6,  227.2, 302.4,  832.9,  526.4,  508.8, 2250. , 1311. ,  766.6,  402. , 710.6,  317.5, 1041. ,  420.3,  428.9,  463.7,  609.9,  507.4,\n",
        "        288.1,  477.4,  671.4,  516.4,  588.9, 1024. , 1148. ,  642.7, 461. ,  951.6, 1685. ,  597.8,  481.9,  716.6,  295.4,  904.3, 529.4,  725.5, 1290. ,  428. , 2499. ,  948. ,  610.7,  578.9,\n",
        "        432.2,  321.2, 1230. , 1223. ,  568.9,  561.3,  313.1,  761.3, 546.4,  641.2,  329.6,  684.5,  496.4,  503.2,  895. ,  395.7, 386.8, 1319. ,  279.6,  603.4, 1670. , 1306. ,  623.9,  920.6,\n",
        "        575.3,  476.5,  389.4,  590. , 1155. ,  337.7,  541.6,  512.2, 347. ,  406.3, 1364. ,  407.4, 1206. ,  928.2, 1169. ,  602.4, 1207. ,  713.3,  773.5,  744.9, 1288. ,  933.1,  947.8,  758.6,\n",
        "        928.3, 1419. ,  346.4,  561. ,  512.2,  344.9,  632.6,  388. , 1491. ,  289.9,  998.9,  435.6,  396.6, 1102. ,  572.3,  587.4, 1138. ,  427.3, 1145. ,  805.1,  516.6,  489. ,  441. ,  515.9,\n",
        "        394.1,  396. ,  651. ,  687.3,  513.7,  432.7,  492.1,  582.7, 363.7,  431.1,  633.1,  334.2, 1217. ,  471.3, 1247. ,  334.3, 403.1,  417.2,  537.3,  246.3,  566.2,  530.6,  418.7,  664.9,\n",
        "        504.1,  409.1,  221.2,  481.6,  461.4, 1027. ,  244.5,  477.3, 324.2, 1274. ,  504.8, 1264. ,  457.9,  489.9,  616.5,  446. , 813.7,  826.8,  793.2,  514. ,  387.3,  390. ,  464.4,  918.6,\n",
        "        514.3, 1092. ,  310.8, 1747. ,  641.2,  280.5,  373.9, 1194. , 420.3,  321.6,  445.3,  668.7,  402.7,  426.7,  421. ,  758.6, 2010. ,  716.6,  384.6,  485.8,  512. ,  593.7,  241. ,  278.6,\n",
        "        491.9,  546.1,  496.6,  838.1,  552.4, 1293. , 1234. ,  458.4, 1546. , 1482. ,  840.4,  711.8, 1386. , 1335. ,  579.1,  788.5, 338.3,  562.1,  580.6,  361.6,  386.3,  372.7,  447.8,  462.9,\n",
        "        541.8,  664.7,  462. ,  596.6,  392. , 1174. ,  321.6,  234.3, 744.7, 1407. ,  446.2,  609.1,  558.1,  508.3,  378.2,  431.9, 994. ,  442.7,  525.2,  507.6,  469.1,  370. ,  800. ,  514.5,\n",
        "        991.7,  466.1,  399.8,  373.2,  268.8,  693.7,  719.5,  433.8, 271.2,  803.1,  495. ,  380.3,  409.7,  656.1,  408.2,  575.3, 289.7,  307.3,  333.6,  359.9,  381.1,  501.3,  685. ,  467.8,\n",
        "       1250. , 1110. ,  673.7,  599.5,  509.2,  611.2,  592.6,  606.5, 371.5,  928.8,  585.9,  340.9,  990. ,  441.3,  981.6,  674.8, 659.7, 1384. ,  432. , 1191. ,  442.5,  644.2,  492.9,  557.2,\n",
        "        415.1,  537.9,  520.2,  290.9,  930.9, 2501. ,  646.1,  412.7, 537.3,  542.9,  536.9,  286.3,  980.5,  408.8,  289.1,  449.9, 686.9,  465.4,  358.9,  506.9,  618.4,  599.4,  404.9,  815.8,\n",
        "        455.3,  602.9,  546.3,  571.1,  747.2,  476.7,  666. , 1167. , 420.5,  857.6,  466.5,  992.1, 1007. ,  477.3,  538.7,  680.9, 485.6,  480.1, 1068. , 1320. ,  689.4,  595.9,  476.3, 1682. ,\n",
        "        248.7,  272.5,  453.1,  366.5,  819.8,  731.3,  426. ,  680.7, 556.7,  658.8,  701.9,  391.2, 1052. , 1214. ,  493.1,  493.8, 257.8, 1841. ,  388.1,  571. ,  293.2,  221.3,  551.1,  468.5,\n",
        "        594.2,  445.2,  422.9,  416.2,  575.5, 1299. ,  365.6, 1308. , 629.8,  406.4,  178.8,  170.4,  402.9,  656.4,  668.6,  538.4, 584.8,  573.2,  324.9,  320.8,  285.7,  361.6,  360.5,  378.4,\n",
        "        507.9,  264. ,  514.3,  321.4,  311.7,  271.3,  657.1,  403.5, 600.4,  386. ,  716.9, 1347. , 1479. , 1261. ,  858.1, 1265. , 181. ]\n",
        "\n",
        "malignant = [0., 0., 0., 0., 0., 0., 0., 0., 0., 0., 0., 0., 0., 0., 0., 0., 0.,\n",
        "       0., 0., 1., 1., 1., 0., 0., 0., 0., 0., 0., 0., 0., 0., 0., 0., 0.,\n",
        "       0., 0., 0., 1., 0., 0., 0., 0., 0., 0., 0., 0., 1., 0., 1., 1., 1.,\n",
        "       1., 1., 0., 0., 1., 0., 0., 1., 1., 1., 1., 0., 1., 0., 0., 1., 1.,\n",
        "       1., 1., 0., 1., 0., 0., 1., 0., 1., 0., 0., 1., 1., 1., 0., 0., 1.,\n",
        "       0., 0., 0., 1., 1., 1., 0., 1., 1., 0., 0., 1., 1., 1., 0., 0., 1.,\n",
        "       1., 1., 1., 0., 1., 1., 0., 1., 1., 1., 1., 1., 1., 1., 1., 0., 0.,\n",
        "       0., 1., 0., 0., 1., 1., 1., 0., 0., 1., 0., 1., 0., 0., 1., 0., 0.,\n",
        "       1., 1., 0., 1., 1., 0., 1., 1., 1., 1., 0., 1., 1., 1., 1., 1., 1.,\n",
        "       1., 1., 1., 0., 1., 1., 1., 1., 0., 0., 1., 0., 1., 1., 0., 0., 1.,\n",
        "       1., 0., 0., 1., 1., 1., 1., 0., 1., 1., 0., 0., 0., 1., 0., 1., 0.,\n",
        "       1., 1., 1., 0., 1., 1., 0., 0., 1., 0., 0., 0., 0., 1., 0., 0., 0.,\n",
        "       1., 0., 1., 0., 1., 1., 0., 1., 0., 0., 0., 0., 1., 1., 0., 0., 1.,\n",
        "       1., 1., 0., 1., 1., 1., 1., 1., 0., 0., 1., 1., 0., 1., 1., 0., 0.,\n",
        "       1., 0., 1., 1., 1., 1., 0., 1., 1., 1., 1., 1., 0., 1., 0., 0., 0.,\n",
        "       0., 0., 0., 0., 0., 0., 0., 0., 0., 0., 0., 1., 1., 1., 1., 1., 1.,\n",
        "       0., 1., 0., 1., 1., 0., 1., 1., 0., 1., 0., 0., 1., 1., 1., 1., 1.,\n",
        "       1., 1., 1., 1., 1., 1., 1., 1., 0., 1., 1., 0., 1., 0., 1., 1., 1.,\n",
        "       1., 1., 1., 1., 1., 1., 1., 1., 1., 1., 1., 0., 1., 1., 1., 0., 1.,\n",
        "       0., 1., 1., 1., 1., 0., 0., 0., 1., 1., 1., 1., 0., 1., 0., 1., 0.,\n",
        "       1., 1., 1., 0., 1., 1., 1., 1., 1., 1., 1., 0., 0., 0., 1., 1., 1.,\n",
        "       1., 1., 1., 1., 1., 1., 1., 1., 0., 0., 1., 0., 0., 0., 1., 0., 0.,\n",
        "       1., 1., 1., 1., 1., 0., 1., 1., 1., 1., 1., 0., 1., 1., 1., 0., 1.,\n",
        "       1., 0., 0., 1., 1., 1., 1., 1., 1., 0., 1., 1., 1., 1., 1., 1., 1.,\n",
        "       0., 1., 1., 1., 1., 1., 0., 1., 1., 0., 1., 1., 1., 1., 1., 1., 1.,\n",
        "       1., 1., 1., 1., 1., 0., 1., 0., 0., 1., 0., 1., 1., 1., 1., 1., 0.,\n",
        "       1., 1., 0., 1., 0., 1., 1., 0., 1., 0., 1., 1., 1., 1., 1., 1., 1.,\n",
        "       1., 0., 0., 1., 1., 1., 1., 1., 1., 0., 1., 1., 1., 1., 1., 1., 1.,\n",
        "       1., 1., 1., 0., 1., 1., 1., 1., 1., 1., 1., 0., 1., 0., 1., 1., 0.,\n",
        "       1., 1., 1., 1., 1., 0., 0., 1., 0., 1., 0., 1., 1., 1., 1., 1., 0.,\n",
        "       1., 1., 0., 1., 0., 1., 0., 0., 1., 1., 1., 0., 1., 1., 1., 1., 1.,\n",
        "       1., 1., 1., 1., 1., 1., 0., 1., 0., 0., 1., 1., 1., 1., 1., 1., 1.,\n",
        "       1., 1., 1., 1., 1., 1., 1., 1., 1., 1., 1., 1., 1., 1., 1., 1., 1.,\n",
        "       1., 0., 0., 0., 0., 0., 0., 1.]"
      ]
    },
    {
      "cell_type": "code",
      "execution_count": null,
      "metadata": {
        "id": "zBO3QTCr5v-A",
        "outputId": "cbdf4eb2-731d-41ab-9caf-6490183d2743"
      },
      "outputs": [
        {
          "name": "stdout",
          "output_type": "stream",
          "text": [
            "654.8891036906857\n",
            "654.8891036906854\n",
            "654.8891036906855\n",
            "519.0704649372796\n"
          ]
        }
      ],
      "source": [
        "#Hitung nilai mean dari 'area' menggunakan python saja, kemudian menggunakan library yang telah di import\n",
        "\n",
        "mean_python = sum(area) /len(area)\n",
        "print(mean_python)\n",
        "\n",
        "mean_statistics = statistics.mean(area)    #untuk python3.8\n",
        "print(mean_statistics)\n",
        "\n",
        "mean_numpy = np.average (area)\n",
        "print(mean_numpy)\n",
        "\n",
        "#Hitung nilai harmonic mean menggunakan scipy\n",
        "harmonicmean = scipy.stats.hmean (area)\n",
        "print(harmonicmean)"
      ]
    },
    {
      "cell_type": "markdown",
      "metadata": {
        "id": "9SXG9tE0l4p7"
      },
      "source": [
        "Expected output:\n",
        "\n",
        "\n",
        "```\n",
        "654.8891036906857 \n",
        "654.8891036906854 \n",
        "654.8891036906855 \n",
        "519.0704649372796 \n",
        "```\n",
        "\n",
        "\n"
      ]
    },
    {
      "cell_type": "code",
      "execution_count": null,
      "metadata": {
        "id": "TQ4lrG_d8FUm",
        "outputId": "20f44381-6fd5-44a8-c975-9bd99d2671f1"
      },
      "outputs": [
        {
          "name": "stdout",
          "output_type": "stream",
          "text": [
            "551.1\n",
            "551.1\n"
          ]
        }
      ],
      "source": [
        "#Hitung median dari 'area' menggunakan python saja dan numpy\n",
        "n = len(area)\n",
        "if n % 2 :\n",
        "    median_python = sorted(area)[round(0.5*(n-1))]\n",
        "else :\n",
        "    area_ord, index = sorted(area), round(0.5*n)\n",
        "    median_python = 0.5*(area_ord[index-1] + area_ord[index])\n",
        "print(median_python)\n",
        "\n",
        "median_numpy = np.median(area)\n",
        "print(median_numpy)"
      ]
    },
    {
      "cell_type": "markdown",
      "metadata": {
        "id": "2cp_Kbqqmoje"
      },
      "source": [
        "Expected output:\n",
        "\n",
        "\n",
        "```\n",
        "551.1\n",
        "551.1\n",
        "```\n",
        "\n",
        "\n"
      ]
    },
    {
      "cell_type": "code",
      "execution_count": null,
      "metadata": {
        "id": "Xv0O2rzG99MZ",
        "outputId": "7d5decdf-b682-43a6-cab3-ad6dea492e04"
      },
      "outputs": [
        {
          "name": "stdout",
          "output_type": "stream",
          "text": [
            "ModeResult(mode=array([512.2]), count=array([3]))\n"
          ]
        }
      ],
      "source": [
        "#Hitung Mode dari 'area' menggunakan scipy\n",
        "\n",
        "mode_scipy = scipy.stats.mode(area)\n",
        "print(mode_scipy)"
      ]
    },
    {
      "cell_type": "markdown",
      "metadata": {
        "id": "lhgTLETxm5jI"
      },
      "source": [
        "Expected output:\n",
        "\n",
        "\n",
        "```\n",
        "ModeResult(mode=array([512.2]), count=array([3]))\n",
        "```\n",
        "\n"
      ]
    },
    {
      "cell_type": "code",
      "execution_count": null,
      "metadata": {
        "id": "SIp6nUJi-TBG",
        "outputId": "de1209d1-f8d2-4d98-eddf-22c69537ad53"
      },
      "outputs": [
        {
          "name": "stdout",
          "output_type": "stream",
          "text": [
            "123843.55431768096\n",
            "123843.55431768115\n",
            "123843.55431768113\n"
          ]
        }
      ],
      "source": [
        "#Hitung variance dari 'area' menggunakan python saja, numpy, dan statistics\n",
        "\n",
        "n = len(area)\n",
        "variance_python = sum((item - mean_python)**2 for item in area) / (n-1)\n",
        "print(variance_python)\n",
        "\n",
        "variance_numpy = np.var(area,ddof=1)\n",
        "print(variance_numpy)\n",
        "\n",
        "variance_statistics = statistics.variance(area)\n",
        "print(variance_statistics)"
      ]
    },
    {
      "cell_type": "markdown",
      "metadata": {
        "id": "vd0o3W3_nUHe"
      },
      "source": [
        "Expected output:\n",
        "\n",
        "\n",
        "```\n",
        "123843.55431768096\n",
        "123843.55431768115\n",
        "123843.55431768113\n",
        "```\n",
        "\n"
      ]
    },
    {
      "cell_type": "code",
      "execution_count": null,
      "metadata": {
        "id": "EI1QGCxq-sZJ",
        "outputId": "69425b9f-b80a-4822-8d42-0164dd74c3e2"
      },
      "outputs": [
        {
          "name": "stdout",
          "output_type": "stream",
          "text": [
            "351.9141291816527\n",
            "351.914129181653\n"
          ]
        }
      ],
      "source": [
        "#Hitung standar deviasi dari 'area' menggunakan python saja dan numpy\n",
        "\n",
        "std_python = variance_python ** 0.5\n",
        "print(std_python)\n",
        "\n",
        "std_numpy = np.std(area, ddof=1)\n",
        "print(std_numpy)"
      ]
    },
    {
      "cell_type": "markdown",
      "metadata": {
        "id": "A82DC5gOnk8v"
      },
      "source": [
        "Expected output:\n",
        "\n",
        "\n",
        "```\n",
        "351.9141291816527\n",
        "351.914129181653\n",
        "```\n",
        "\n"
      ]
    },
    {
      "cell_type": "code",
      "execution_count": null,
      "metadata": {
        "id": "_SesOoaz_EiG",
        "outputId": "e2ed82b0-ffdb-4423-df7e-d7c079857716"
      },
      "outputs": [
        {
          "name": "stdout",
          "output_type": "stream",
          "text": [
            "1.6457321756240448\n",
            "1.6457321756240424\n"
          ]
        }
      ],
      "source": [
        "#Hitung skewness dari 'area' menggunakan python saja dan scipy\n",
        "\n",
        "skew_python = (sum((item - mean_python)**3 for item in area) * n / ((n-1) * (n-2) * std_python**3))\n",
        "print(skew_python)\n",
        "\n",
        "skew_scipy = scipy.stats.skew(area, bias = False)\n",
        "print(skew_scipy)"
      ]
    },
    {
      "cell_type": "markdown",
      "metadata": {
        "id": "4jTMC_ydn0l0"
      },
      "source": [
        "Expected output:\n",
        "\n",
        "\n",
        "```\n",
        "1.6457321756240448\n",
        "1.6457321756240424\n",
        "```\n",
        "\n"
      ]
    },
    {
      "cell_type": "code",
      "execution_count": null,
      "metadata": {
        "id": "VF47KXsJ_bK8",
        "outputId": "725900f8-dd0b-413d-a091-dcf676411a40"
      },
      "outputs": [
        {
          "name": "stdout",
          "output_type": "stream",
          "text": [
            "665.8679999999999\n",
            "1131.6799999999998\n"
          ]
        }
      ],
      "source": [
        "#Hitung percentile ke 66 dan 88 dari 'area' menggunakan numpy\n",
        "\n",
        "percentile66 = np.percentile(area, 66)\n",
        "print(percentile66)\n",
        "\n",
        "percentile88 = np.percentile(area, 88)\n",
        "print(percentile88)"
      ]
    },
    {
      "cell_type": "markdown",
      "metadata": {
        "id": "nwbz1HHyozEE"
      },
      "source": [
        "Expected output:\n",
        "\n",
        "\n",
        "```\n",
        "665.8679999999999\n",
        "1131.6799999999998\n",
        "```\n",
        "\n"
      ]
    },
    {
      "cell_type": "code",
      "execution_count": null,
      "metadata": {
        "id": "o9Y09jIo__3S",
        "outputId": "bcf79061-5698-4fe1-bd68-c407fb3dc100"
      },
      "outputs": [
        {
          "name": "stdout",
          "output_type": "stream",
          "text": [
            "2357.5\n",
            "2357.5\n"
          ]
        }
      ],
      "source": [
        "#Hitung range dari 'area' menggunakan python saja dan numpy\n",
        "\n",
        "range_python = np.ptp(area)\n",
        "print(range_python)\n",
        "\n",
        "range_numpy = np.amax(area) - np.amin(area)\n",
        "print(range_python)"
      ]
    },
    {
      "cell_type": "markdown",
      "metadata": {
        "id": "QYbYxBOBo8rF"
      },
      "source": [
        "Expected output:\n",
        "\n",
        "\n",
        "```\n",
        "2357.5\n",
        "2357.5\n",
        "```\n",
        "\n"
      ]
    },
    {
      "cell_type": "code",
      "execution_count": null,
      "metadata": {
        "id": "og5IEgrgARXE",
        "outputId": "f3def746-2a01-48cd-a33c-941fbb2fc30a"
      },
      "outputs": [
        {
          "name": "stdout",
          "output_type": "stream",
          "text": [
            "-120.73822186192733\n",
            "[[ 1.23843554e+05 -1.20738222e+02]\n",
            " [-1.20738222e+02  2.34176589e-01]]\n"
          ]
        }
      ],
      "source": [
        "#Hitung covariance dari 'area' dan 'malignant' menggunakan python saja dan numpy\n",
        "\n",
        "mean_x, mean_y = sum(area) / n, sum(malignant) / n\n",
        "cov_python = (sum((area[k] - mean_x) * (malignant[k] - mean_y) for k in range (n))/(n-1))\n",
        "print(cov_python)\n",
        "\n",
        "cov_numpy = np.cov(area, malignant)\n",
        "print(cov_numpy)"
      ]
    },
    {
      "cell_type": "markdown",
      "metadata": {
        "id": "eIOMvJ8TpHHp"
      },
      "source": [
        "Expexted output:\n",
        "\n",
        "```\n",
        "-120.73822186192733\n",
        "[[ 1.23843554e+05 -1.20738222e+02]\n",
        " [-1.20738222e+02  2.34176589e-01]]\n",
        "```\n",
        "\n"
      ]
    },
    {
      "cell_type": "code",
      "execution_count": null,
      "metadata": {
        "id": "epmNuviLAscr",
        "outputId": "7fbfd72a-c929-4c51-b5b6-0bca58fca5e8"
      },
      "outputs": [
        {
          "name": "stdout",
          "output_type": "stream",
          "text": [
            "-0.7089838365853909\n",
            "[[ 1.         -0.70898384]\n",
            " [-0.70898384  1.        ]]\n",
            "-0.708983836585389\n"
          ]
        }
      ],
      "source": [
        "#Hitung correlation coefficient 'area' dan 'malignant' menggunakan python saja, numpy, dan scipy\n",
        "\n",
        "mean_area = sum(area) / len(area) \n",
        "mean_malignant = sum(malignant) / len(malignant)\n",
        "var_area = sum((item - mean_area)**2 for item in area) / (n-1)\n",
        "var_malignant = sum((item - mean_malignant)**2 for item in malignant) / (n-1)\n",
        "std_area, std_malignant = var_area ** 0.5, var_malignant ** 0.5\n",
        "corr_python = cov_python / (std_area* std_malignant)\n",
        "print(corr_python)\n",
        "\n",
        "corr_numpy = np.corrcoef(area, malignant)\n",
        "print(corr_numpy)\n",
        "\n",
        "corr_scipy = scipy.stats.pearsonr(area, malignant)\n",
        "print(corr_scipy[0])"
      ]
    },
    {
      "cell_type": "markdown",
      "metadata": {
        "id": "76PzM9NWpj9m"
      },
      "source": [
        "Expected output:\n",
        "\n",
        "```\n",
        "-0.7089838365853909\n",
        "[[ 1.         -0.70898384]\n",
        " [-0.70898384  1.        ]]\n",
        "-0.70898383658539\n",
        "```\n",
        "\n"
      ]
    },
    {
      "cell_type": "code",
      "execution_count": null,
      "metadata": {
        "id": "PcK4waRnBQKc",
        "outputId": "1e6ae6b0-60ec-4c8f-e977-11b3377a8c34"
      },
      "outputs": [
        {
          "name": "stdout",
          "output_type": "stream",
          "text": [
            "4.734564310308523e-88\n",
            "4.7345643103105796e-88\n"
          ]
        }
      ],
      "source": [
        "#Hitung p-value dari 'area' dan 'malignant' menggunakan scipy pearsonr dan linregress\n",
        "\n",
        "p_pearsonr = scipy.stats.pearsonr(area, malignant)\n",
        "print(p_pearsonr[1])\n",
        "\n",
        "p_linregress = scipy.stats.linregress(area, malignant)\n",
        "p = p_linregress.pvalue\n",
        "print(p)"
      ]
    },
    {
      "cell_type": "markdown",
      "metadata": {
        "id": "H-CWhllLp5vI"
      },
      "source": [
        "Expected output:\n",
        "```\n",
        "4.734564310304486e-88\n",
        "4.734564310310984e-88\n",
        "```\n",
        "\n"
      ]
    },
    {
      "cell_type": "markdown",
      "metadata": {
        "id": "mpkuv7s1B1f9"
      },
      "source": [
        "Apa kesimpulan yang dapat diambil dari nilai koefisien korelasi antara 'area' dengan 'malignant'?"
      ]
    },
    {
      "cell_type": "markdown",
      "metadata": {
        "id": "4GkQ-rg6CJl_"
      },
      "source": [
        "Jawab: cukup kuat dan berbanding terbalik"
      ]
    },
    {
      "cell_type": "markdown",
      "metadata": {
        "id": "txdh4OI0Pr6p"
      },
      "source": [
        "\n",
        "\n",
        "---\n",
        "\n",
        "\n",
        "\n",
        "---\n",
        "\n"
      ]
    }
  ],
  "metadata": {
    "colab": {
      "provenance": []
    },
    "kernelspec": {
      "display_name": "Python 3",
      "language": "python",
      "name": "python3"
    },
    "language_info": {
      "codemirror_mode": {
        "name": "ipython",
        "version": 3
      },
      "file_extension": ".py",
      "mimetype": "text/x-python",
      "name": "python",
      "nbconvert_exporter": "python",
      "pygments_lexer": "ipython3",
      "version": "3.8.0"
    }
  },
  "nbformat": 4,
  "nbformat_minor": 0
}